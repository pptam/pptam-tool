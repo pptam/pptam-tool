{
 "cells": [
  {
   "cell_type": "code",
   "execution_count": null,
   "metadata": {},
   "outputs": [
    {
     "ename": "FileNotFoundError",
     "evalue": "[Errno 2] No such file or directory: './executed/202503252224-hotel-test1/traces_frontend.json'",
     "output_type": "error",
     "traceback": [
      "\u001b[0;31m---------------------------------------------------------------------------\u001b[0m",
      "\u001b[0;31mFileNotFoundError\u001b[0m                         Traceback (most recent call last)",
      "Cell \u001b[0;32mIn[1], line 28\u001b[0m\n\u001b[1;32m     26\u001b[0m \u001b[38;5;66;03m# Load and merge traces from all files\u001b[39;00m\n\u001b[1;32m     27\u001b[0m \u001b[38;5;28;01mfor\u001b[39;00m file_path \u001b[38;5;129;01min\u001b[39;00m trace_files:\n\u001b[0;32m---> 28\u001b[0m     \u001b[38;5;28;01mwith\u001b[39;00m \u001b[38;5;28;43mopen\u001b[39;49m\u001b[43m(\u001b[49m\u001b[43mfile_path\u001b[49m\u001b[43m,\u001b[49m\u001b[43m \u001b[49m\u001b[38;5;124;43m'\u001b[39;49m\u001b[38;5;124;43mr\u001b[39;49m\u001b[38;5;124;43m'\u001b[39;49m\u001b[43m)\u001b[49m \u001b[38;5;28;01mas\u001b[39;00m f:\n\u001b[1;32m     29\u001b[0m         data \u001b[38;5;241m=\u001b[39m json\u001b[38;5;241m.\u001b[39mload(f)\n\u001b[1;32m     30\u001b[0m         \u001b[38;5;28;01mfor\u001b[39;00m trace \u001b[38;5;129;01min\u001b[39;00m data\u001b[38;5;241m.\u001b[39mget(\u001b[38;5;124m\"\u001b[39m\u001b[38;5;124mdata\u001b[39m\u001b[38;5;124m\"\u001b[39m, []):\n",
      "File \u001b[0;32m~/Documents/code/pptam/pptam-tool/toolchain/lib/python3.12/site-packages/IPython/core/interactiveshell.py:324\u001b[0m, in \u001b[0;36m_modified_open\u001b[0;34m(file, *args, **kwargs)\u001b[0m\n\u001b[1;32m    317\u001b[0m \u001b[38;5;28;01mif\u001b[39;00m file \u001b[38;5;129;01min\u001b[39;00m {\u001b[38;5;241m0\u001b[39m, \u001b[38;5;241m1\u001b[39m, \u001b[38;5;241m2\u001b[39m}:\n\u001b[1;32m    318\u001b[0m     \u001b[38;5;28;01mraise\u001b[39;00m \u001b[38;5;167;01mValueError\u001b[39;00m(\n\u001b[1;32m    319\u001b[0m         \u001b[38;5;124mf\u001b[39m\u001b[38;5;124m\"\u001b[39m\u001b[38;5;124mIPython won\u001b[39m\u001b[38;5;124m'\u001b[39m\u001b[38;5;124mt let you open fd=\u001b[39m\u001b[38;5;132;01m{\u001b[39;00mfile\u001b[38;5;132;01m}\u001b[39;00m\u001b[38;5;124m by default \u001b[39m\u001b[38;5;124m\"\u001b[39m\n\u001b[1;32m    320\u001b[0m         \u001b[38;5;124m\"\u001b[39m\u001b[38;5;124mas it is likely to crash IPython. If you know what you are doing, \u001b[39m\u001b[38;5;124m\"\u001b[39m\n\u001b[1;32m    321\u001b[0m         \u001b[38;5;124m\"\u001b[39m\u001b[38;5;124myou can use builtins\u001b[39m\u001b[38;5;124m'\u001b[39m\u001b[38;5;124m open.\u001b[39m\u001b[38;5;124m\"\u001b[39m\n\u001b[1;32m    322\u001b[0m     )\n\u001b[0;32m--> 324\u001b[0m \u001b[38;5;28;01mreturn\u001b[39;00m \u001b[43mio_open\u001b[49m\u001b[43m(\u001b[49m\u001b[43mfile\u001b[49m\u001b[43m,\u001b[49m\u001b[43m \u001b[49m\u001b[38;5;241;43m*\u001b[39;49m\u001b[43margs\u001b[49m\u001b[43m,\u001b[49m\u001b[43m \u001b[49m\u001b[38;5;241;43m*\u001b[39;49m\u001b[38;5;241;43m*\u001b[39;49m\u001b[43mkwargs\u001b[49m\u001b[43m)\u001b[49m\n",
      "\u001b[0;31mFileNotFoundError\u001b[0m: [Errno 2] No such file or directory: './executed/202503252224-hotel-test1/traces_frontend.json'"
     ]
    }
   ],
   "source": [
    "import json\n",
    "from collections import defaultdict\n",
    "\n",
    "# Paths to the trace files (from multiple services)\n",
    "trace_files = [\n",
    "    \"./executed/202503261213-hotel-test1/traces_frontend.json\",\n",
    "    \"./executed/202503261213-hotel-test1/traces_geo.json\",\n",
    "    \"./executed/202503261213-hotel-test1/traces_profile.json\",\n",
    "    \"./executed/202503261213-hotel-test1/traces_rate.json\",\n",
    "    \"./executed/202503261213-hotel-test1/traces_recommendation.json\",\n",
    "    \"./executed/202503261213-hotel-test1/traces_reservation.json\",\n",
    "    \"./executed/202503261213-hotel-test1/traces_search.json\",\n",
    "]\n",
    "\n",
    "# traceID -> list of spans\n",
    "trace_spans = defaultdict(list)\n",
    "\n",
    "# traceID -> processID -> serviceName\n",
    "trace_services = defaultdict(dict)\n",
    "\n",
    "trace_spans.clear()\n",
    "trace_services.clear()\n",
    "\n",
    "seen_span_ids = defaultdict(set)\n",
    "\n",
    "# Load and merge traces from all files\n",
    "for file_path in trace_files:\n",
    "    with open(file_path, 'r') as f:\n",
    "        data = json.load(f)\n",
    "        for trace in data.get(\"data\", []):\n",
    "            trace_id = trace.get(\"traceID\")\n",
    "\n",
    "            # Store processID -> serviceName mapping\n",
    "            processes = trace.get(\"processes\", {})\n",
    "            for pid, process in processes.items():\n",
    "                service_name = process.get(\"serviceName\", \"<unknown>\")\n",
    "                trace_services[trace_id][pid] = service_name\n",
    "\n",
    "            # Collect all spans\n",
    "            for span in trace.get(\"spans\", []):\n",
    "                span_id = span.get(\"spanID\")\n",
    "                if span_id not in seen_span_ids[trace_id]:\n",
    "                    seen_span_ids[trace_id].add(span_id)\n",
    "                    trace_spans[trace_id].append(span)\n",
    "\n",
    "# Print traces ordered by span startTime, including service name and span ID\n",
    "for trace_id, spans in trace_spans.items():\n",
    "    print(f\"Trace ID: {trace_id}\")\n",
    "    sorted_spans = sorted(spans, key=lambda s: s.get(\"startTime\", 0))\n",
    "    for i, span in enumerate(sorted_spans, start=1):\n",
    "        op_name = span.get(\"operationName\", \"<unknown>\")\n",
    "        process_id = span.get(\"processID\", \"\")\n",
    "        span_id = span.get(\"spanID\", \"\")\n",
    "        service_name = trace_services[trace_id].get(process_id, \"<unknown service>\")\n",
    "        print(f\"  Step {i}: [{service_name}] {op_name} (spanID: {span_id})\")\n",
    "    print()\n"
   ]
  }
 ],
 "metadata": {
  "kernelspec": {
   "display_name": "toolchain",
   "language": "python",
   "name": "python3"
  },
  "language_info": {
   "codemirror_mode": {
    "name": "ipython",
    "version": 3
   },
   "file_extension": ".py",
   "mimetype": "text/x-python",
   "name": "python",
   "nbconvert_exporter": "python",
   "pygments_lexer": "ipython3",
   "version": "3.12.9"
  }
 },
 "nbformat": 4,
 "nbformat_minor": 2
}
