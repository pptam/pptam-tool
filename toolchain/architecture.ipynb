{
 "cells": [
  {
   "cell_type": "code",
   "execution_count": 2,
   "metadata": {},
   "outputs": [],
   "source": [
    "import matplotlib.pyplot as plt\n",
    "import pygraphviz as pgv\n",
    "import pandas as pd\n",
    "from io import StringIO\n",
    "from PIL import Image\n",
    "\n",
    "data = \"\"\"Parent,Child,Weight\n",
    "frontend,user,2\n",
    "frontend,profile,261\n",
    "frontend,reservation,164\n",
    "frontend,search,164\n",
    "frontend,recommendation,97\n",
    "search,geo,164\n",
    "search,rate,164\n",
    "\"\"\"\n",
    "\n",
    "def draw_graph(csv_data):\n",
    "    df = pd.read_csv(StringIO(csv_data))\n",
    "    \n",
    "    graph = pgv.AGraph(directed=True)\n",
    "    \n",
    "    for _, row in df.iterrows():\n",
    "        graph.add_edge(row['Parent'], row['Child'], label=row['Weight'])\n",
    "    \n",
    "    graph.layout(prog='dot')  # Use dot layout for hierarchy\n",
    "    graph.draw(\"graph.pdf\")\n",
    "    \n",
    "\n",
    "\n",
    "draw_graph(data)\n"
   ]
  }
 ],
 "metadata": {
  "kernelspec": {
   "display_name": "toolchain",
   "language": "python",
   "name": "python3"
  },
  "language_info": {
   "codemirror_mode": {
    "name": "ipython",
    "version": 3
   },
   "file_extension": ".py",
   "mimetype": "text/x-python",
   "name": "python",
   "nbconvert_exporter": "python",
   "pygments_lexer": "ipython3",
   "version": "3.12.9"
  }
 },
 "nbformat": 4,
 "nbformat_minor": 2
}
